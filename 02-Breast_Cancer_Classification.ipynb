{
  "cells": [
    {
      "cell_type": "markdown",
      "metadata": {
        "id": "view-in-github",
        "colab_type": "text"
      },
      "source": [
        "<a href=\"https://colab.research.google.com/github/AbdalrahmanAliElnashar/Classification-Project/blob/main/02-Breast_Cancer_Classification.ipynb\" target=\"_parent\"><img src=\"https://colab.research.google.com/assets/colab-badge.svg\" alt=\"Open In Colab\"/></a>"
      ]
    },
    {
      "cell_type": "markdown",
      "id": "ab75000d",
      "metadata": {
        "id": "ab75000d"
      },
      "source": [
        "# Breast Cancer Dataset"
      ]
    },
    {
      "cell_type": "code",
      "execution_count": null,
      "id": "c32e6c9b",
      "metadata": {
        "id": "c32e6c9b"
      },
      "outputs": [],
      "source": [
        "import numpy as np\n",
        "import pandas as pd\n",
        "import matplotlib.pyplot as plt\n",
        "import seaborn as sns\n",
        "from sklearn.model_selection import train_test_split\n",
        "from sklearn.naive_bayes import GaussianNB\n",
        "from sklearn.neighbors import KNeighborsClassifier\n",
        "from sklearn.linear_model import LogisticRegression\n",
        "from sklearn import metrics\n",
        "from sklearn.preprocessing import StandardScaler\n",
        "\n"
      ]
    },
    {
      "cell_type": "code",
      "execution_count": null,
      "id": "43b7d4e6",
      "metadata": {
        "id": "43b7d4e6",
        "outputId": "218437f1-20be-45b2-a6a6-42d3e70ef2cf"
      },
      "outputs": [
        {
          "name": "stdout",
          "output_type": "stream",
          "text": [
            "          id diagnosis  radius_mean  texture_mean  perimeter_mean  area_mean  \\\n",
            "0     842302         M        17.99         10.38          122.80     1001.0   \n",
            "1     842517         M        20.57         17.77          132.90     1326.0   \n",
            "2   84300903         M        19.69         21.25          130.00     1203.0   \n",
            "3   84348301         M        11.42         20.38           77.58      386.1   \n",
            "4   84358402         M        20.29         14.34          135.10     1297.0   \n",
            "5     843786         M        12.45         15.70           82.57      477.1   \n",
            "6     844359         M        18.25         19.98          119.60     1040.0   \n",
            "7   84458202         M        13.71         20.83           90.20      577.9   \n",
            "8     844981         M        13.00         21.82           87.50      519.8   \n",
            "9   84501001         M        12.46         24.04           83.97      475.9   \n",
            "10    845636         M        16.02         23.24          102.70      797.8   \n",
            "11  84610002         M        15.78         17.89          103.60      781.0   \n",
            "12    846226         M        19.17         24.80          132.40     1123.0   \n",
            "13    846381         M        15.85         23.95          103.70      782.7   \n",
            "14  84667401         M        13.73         22.61           93.60      578.3   \n",
            "15  84799002         M        14.54         27.54           96.73      658.8   \n",
            "16    848406         M        14.68         20.13           94.74      684.5   \n",
            "17  84862001         M        16.13         20.68          108.10      798.8   \n",
            "18    849014         M        19.81         22.15          130.00     1260.0   \n",
            "19   8510426         B        13.54         14.36           87.46      566.3   \n",
            "\n",
            "    smoothness_mean  compactness_mean  concavity_mean  concave points_mean  \\\n",
            "0           0.11840           0.27760         0.30010              0.14710   \n",
            "1           0.08474           0.07864         0.08690              0.07017   \n",
            "2           0.10960           0.15990         0.19740              0.12790   \n",
            "3           0.14250           0.28390         0.24140              0.10520   \n",
            "4           0.10030           0.13280         0.19800              0.10430   \n",
            "5           0.12780           0.17000         0.15780              0.08089   \n",
            "6           0.09463           0.10900         0.11270              0.07400   \n",
            "7           0.11890           0.16450         0.09366              0.05985   \n",
            "8           0.12730           0.19320         0.18590              0.09353   \n",
            "9           0.11860           0.23960         0.22730              0.08543   \n",
            "10          0.08206           0.06669         0.03299              0.03323   \n",
            "11          0.09710           0.12920         0.09954              0.06606   \n",
            "12          0.09740           0.24580         0.20650              0.11180   \n",
            "13          0.08401           0.10020         0.09938              0.05364   \n",
            "14          0.11310           0.22930         0.21280              0.08025   \n",
            "15          0.11390           0.15950         0.16390              0.07364   \n",
            "16          0.09867           0.07200         0.07395              0.05259   \n",
            "17          0.11700           0.20220         0.17220              0.10280   \n",
            "18          0.09831           0.10270         0.14790              0.09498   \n",
            "19          0.09779           0.08129         0.06664              0.04781   \n",
            "\n",
            "    ...  texture_worst  perimeter_worst  area_worst  smoothness_worst  \\\n",
            "0   ...          17.33           184.60      2019.0            0.1622   \n",
            "1   ...          23.41           158.80      1956.0            0.1238   \n",
            "2   ...          25.53           152.50      1709.0            0.1444   \n",
            "3   ...          26.50            98.87       567.7            0.2098   \n",
            "4   ...          16.67           152.20      1575.0            0.1374   \n",
            "5   ...          23.75           103.40       741.6            0.1791   \n",
            "6   ...          27.66           153.20      1606.0            0.1442   \n",
            "7   ...          28.14           110.60       897.0            0.1654   \n",
            "8   ...          30.73           106.20       739.3            0.1703   \n",
            "9   ...          40.68            97.65       711.4            0.1853   \n",
            "10  ...          33.88           123.80      1150.0            0.1181   \n",
            "11  ...          27.28           136.50      1299.0            0.1396   \n",
            "12  ...          29.94           151.70      1332.0            0.1037   \n",
            "13  ...          27.66           112.00       876.5            0.1131   \n",
            "14  ...          32.01           108.80       697.7            0.1651   \n",
            "15  ...          37.13           124.10       943.2            0.1678   \n",
            "16  ...          30.88           123.40      1138.0            0.1464   \n",
            "17  ...          31.48           136.80      1315.0            0.1789   \n",
            "18  ...          30.88           186.80      2398.0            0.1512   \n",
            "19  ...          19.26            99.70       711.2            0.1440   \n",
            "\n",
            "    compactness_worst  concavity_worst  concave points_worst  symmetry_worst  \\\n",
            "0              0.6656           0.7119               0.26540          0.4601   \n",
            "1              0.1866           0.2416               0.18600          0.2750   \n",
            "2              0.4245           0.4504               0.24300          0.3613   \n",
            "3              0.8663           0.6869               0.25750          0.6638   \n",
            "4              0.2050           0.4000               0.16250          0.2364   \n",
            "5              0.5249           0.5355               0.17410          0.3985   \n",
            "6              0.2576           0.3784               0.19320          0.3063   \n",
            "7              0.3682           0.2678               0.15560          0.3196   \n",
            "8              0.5401           0.5390               0.20600          0.4378   \n",
            "9              1.0580           1.1050               0.22100          0.4366   \n",
            "10             0.1551           0.1459               0.09975          0.2948   \n",
            "11             0.5609           0.3965               0.18100          0.3792   \n",
            "12             0.3903           0.3639               0.17670          0.3176   \n",
            "13             0.1924           0.2322               0.11190          0.2809   \n",
            "14             0.7725           0.6943               0.22080          0.3596   \n",
            "15             0.6577           0.7026               0.17120          0.4218   \n",
            "16             0.1871           0.2914               0.16090          0.3029   \n",
            "17             0.4233           0.4784               0.20730          0.3706   \n",
            "18             0.3150           0.5372               0.23880          0.2768   \n",
            "19             0.1773           0.2390               0.12880          0.2977   \n",
            "\n",
            "    fractal_dimension_worst  Unnamed: 32  \n",
            "0                   0.11890          NaN  \n",
            "1                   0.08902          NaN  \n",
            "2                   0.08758          NaN  \n",
            "3                   0.17300          NaN  \n",
            "4                   0.07678          NaN  \n",
            "5                   0.12440          NaN  \n",
            "6                   0.08368          NaN  \n",
            "7                   0.11510          NaN  \n",
            "8                   0.10720          NaN  \n",
            "9                   0.20750          NaN  \n",
            "10                  0.08452          NaN  \n",
            "11                  0.10480          NaN  \n",
            "12                  0.10230          NaN  \n",
            "13                  0.06287          NaN  \n",
            "14                  0.14310          NaN  \n",
            "15                  0.13410          NaN  \n",
            "16                  0.08216          NaN  \n",
            "17                  0.11420          NaN  \n",
            "18                  0.07615          NaN  \n",
            "19                  0.07259          NaN  \n",
            "\n",
            "[20 rows x 33 columns]\n",
            "(569, 33)\n",
            "<class 'pandas.core.frame.DataFrame'>\n",
            "RangeIndex: 569 entries, 0 to 568\n",
            "Data columns (total 33 columns):\n",
            " #   Column                   Non-Null Count  Dtype  \n",
            "---  ------                   --------------  -----  \n",
            " 0   id                       569 non-null    int64  \n",
            " 1   diagnosis                569 non-null    object \n",
            " 2   radius_mean              569 non-null    float64\n",
            " 3   texture_mean             569 non-null    float64\n",
            " 4   perimeter_mean           569 non-null    float64\n",
            " 5   area_mean                569 non-null    float64\n",
            " 6   smoothness_mean          569 non-null    float64\n",
            " 7   compactness_mean         569 non-null    float64\n",
            " 8   concavity_mean           569 non-null    float64\n",
            " 9   concave points_mean      569 non-null    float64\n",
            " 10  symmetry_mean            569 non-null    float64\n",
            " 11  fractal_dimension_mean   569 non-null    float64\n",
            " 12  radius_se                569 non-null    float64\n",
            " 13  texture_se               569 non-null    float64\n",
            " 14  perimeter_se             569 non-null    float64\n",
            " 15  area_se                  569 non-null    float64\n",
            " 16  smoothness_se            569 non-null    float64\n",
            " 17  compactness_se           569 non-null    float64\n",
            " 18  concavity_se             569 non-null    float64\n",
            " 19  concave points_se        569 non-null    float64\n",
            " 20  symmetry_se              569 non-null    float64\n",
            " 21  fractal_dimension_se     569 non-null    float64\n",
            " 22  radius_worst             569 non-null    float64\n",
            " 23  texture_worst            569 non-null    float64\n",
            " 24  perimeter_worst          569 non-null    float64\n",
            " 25  area_worst               569 non-null    float64\n",
            " 26  smoothness_worst         569 non-null    float64\n",
            " 27  compactness_worst        569 non-null    float64\n",
            " 28  concavity_worst          569 non-null    float64\n",
            " 29  concave points_worst     569 non-null    float64\n",
            " 30  symmetry_worst           569 non-null    float64\n",
            " 31  fractal_dimension_worst  569 non-null    float64\n",
            " 32  Unnamed: 32              0 non-null      float64\n",
            "dtypes: float64(31), int64(1), object(1)\n",
            "memory usage: 146.8+ KB\n",
            "None\n",
            "                 id  radius_mean  texture_mean  perimeter_mean    area_mean  \\\n",
            "count  5.690000e+02   569.000000    569.000000      569.000000   569.000000   \n",
            "mean   3.037183e+07    14.127292     19.289649       91.969033   654.889104   \n",
            "std    1.250206e+08     3.524049      4.301036       24.298981   351.914129   \n",
            "min    8.670000e+03     6.981000      9.710000       43.790000   143.500000   \n",
            "25%    8.692180e+05    11.700000     16.170000       75.170000   420.300000   \n",
            "50%    9.060240e+05    13.370000     18.840000       86.240000   551.100000   \n",
            "75%    8.813129e+06    15.780000     21.800000      104.100000   782.700000   \n",
            "max    9.113205e+08    28.110000     39.280000      188.500000  2501.000000   \n",
            "\n",
            "       smoothness_mean  compactness_mean  concavity_mean  concave points_mean  \\\n",
            "count       569.000000        569.000000      569.000000           569.000000   \n",
            "mean          0.096360          0.104341        0.088799             0.048919   \n",
            "std           0.014064          0.052813        0.079720             0.038803   \n",
            "min           0.052630          0.019380        0.000000             0.000000   \n",
            "25%           0.086370          0.064920        0.029560             0.020310   \n",
            "50%           0.095870          0.092630        0.061540             0.033500   \n",
            "75%           0.105300          0.130400        0.130700             0.074000   \n",
            "max           0.163400          0.345400        0.426800             0.201200   \n",
            "\n",
            "       symmetry_mean  ...  texture_worst  perimeter_worst   area_worst  \\\n",
            "count     569.000000  ...     569.000000       569.000000   569.000000   \n",
            "mean        0.181162  ...      25.677223       107.261213   880.583128   \n",
            "std         0.027414  ...       6.146258        33.602542   569.356993   \n",
            "min         0.106000  ...      12.020000        50.410000   185.200000   \n",
            "25%         0.161900  ...      21.080000        84.110000   515.300000   \n",
            "50%         0.179200  ...      25.410000        97.660000   686.500000   \n",
            "75%         0.195700  ...      29.720000       125.400000  1084.000000   \n",
            "max         0.304000  ...      49.540000       251.200000  4254.000000   \n",
            "\n",
            "       smoothness_worst  compactness_worst  concavity_worst  \\\n",
            "count        569.000000         569.000000       569.000000   \n",
            "mean           0.132369           0.254265         0.272188   \n",
            "std            0.022832           0.157336         0.208624   \n",
            "min            0.071170           0.027290         0.000000   \n",
            "25%            0.116600           0.147200         0.114500   \n",
            "50%            0.131300           0.211900         0.226700   \n",
            "75%            0.146000           0.339100         0.382900   \n",
            "max            0.222600           1.058000         1.252000   \n",
            "\n",
            "       concave points_worst  symmetry_worst  fractal_dimension_worst  \\\n",
            "count            569.000000      569.000000               569.000000   \n",
            "mean               0.114606        0.290076                 0.083946   \n",
            "std                0.065732        0.061867                 0.018061   \n",
            "min                0.000000        0.156500                 0.055040   \n",
            "25%                0.064930        0.250400                 0.071460   \n",
            "50%                0.099930        0.282200                 0.080040   \n",
            "75%                0.161400        0.317900                 0.092080   \n",
            "max                0.291000        0.663800                 0.207500   \n",
            "\n",
            "       Unnamed: 32  \n",
            "count          0.0  \n",
            "mean           NaN  \n",
            "std            NaN  \n",
            "min            NaN  \n",
            "25%            NaN  \n",
            "50%            NaN  \n",
            "75%            NaN  \n",
            "max            NaN  \n",
            "\n",
            "[8 rows x 32 columns]\n",
            "Index(['id', 'diagnosis', 'radius_mean', 'texture_mean', 'perimeter_mean',\n",
            "       'area_mean', 'smoothness_mean', 'compactness_mean', 'concavity_mean',\n",
            "       'concave points_mean', 'symmetry_mean', 'fractal_dimension_mean',\n",
            "       'radius_se', 'texture_se', 'perimeter_se', 'area_se', 'smoothness_se',\n",
            "       'compactness_se', 'concavity_se', 'concave points_se', 'symmetry_se',\n",
            "       'fractal_dimension_se', 'radius_worst', 'texture_worst',\n",
            "       'perimeter_worst', 'area_worst', 'smoothness_worst',\n",
            "       'compactness_worst', 'concavity_worst', 'concave points_worst',\n",
            "       'symmetry_worst', 'fractal_dimension_worst', 'Unnamed: 32'],\n",
            "      dtype='object')\n",
            "Hellllllllllllllllllllllllllllllllo\n",
            "data shape: (569, 31)\n"
          ]
        }
      ],
      "source": [
        "data = pd.read_csv('data.csv')\n",
        "# Data Exploration\n",
        "print(data.head(20))\n",
        "print(data.shape)\n",
        "print(data.info())\n",
        "print(data.describe())\n",
        "print(data.columns)\n",
        "# drop id & unnamed column\n",
        "data.drop(['id', 'Unnamed: 32'], axis=1, inplace=True)\n",
        "print('data shape: {}'.format(data.shape))\n"
      ]
    },
    {
      "cell_type": "code",
      "execution_count": null,
      "id": "023e2aa4",
      "metadata": {
        "id": "023e2aa4"
      },
      "outputs": [],
      "source": [
        "mean_features = list(data.columns[1:11] )\n",
        "se_features = list(data.columns[11:20])\n",
        "worst_features = list(data.columns[21:31])\n",
        "print(mean_features)\n",
        "print('-----------------------------------------')\n",
        "print(se_features)\n",
        "print('-----------------------------------------')\n",
        "print(worst_features)\n",
        "print('-----------------------------------------')\n"
      ]
    },
    {
      "cell_type": "code",
      "execution_count": null,
      "id": "b10cf978",
      "metadata": {
        "id": "b10cf978"
      },
      "outputs": [],
      "source": [
        "# mapping target feature\n",
        "data['diagnosis'] = data['diagnosis'].map({'M': 1, 'B': 0})\n",
        "# data['diagnosis'] = data['diagnosis'].replace(['M', 'B'], [1, 0])\n",
        "print(data['diagnosis'].head())\n"
      ]
    },
    {
      "cell_type": "code",
      "execution_count": null,
      "id": "a7ddd51e",
      "metadata": {
        "id": "a7ddd51e"
      },
      "outputs": [],
      "source": [
        "# # diagnosis distribution\n",
        "fig = plt.figure(figsize=(8, 8))\n",
        "sns.countplot(data['diagnosis'])\n",
        "plt.show()\n"
      ]
    },
    {
      "cell_type": "code",
      "execution_count": null,
      "id": "37135f3f",
      "metadata": {
        "id": "37135f3f"
      },
      "outputs": [],
      "source": [
        "# check Multicollinearity\n",
        "# Mean Feature\n",
        "print('Correlation')\n",
        "print(data[mean_features].corr())\n",
        "fig = plt.figure(figsize=(10, 8))\n",
        "sns.heatmap(data[mean_features].corr(), annot=True, cmap=\"RdBu\")\n",
        "# plt.show()"
      ]
    },
    {
      "cell_type": "code",
      "execution_count": null,
      "id": "bc309c3a",
      "metadata": {
        "id": "bc309c3a"
      },
      "outputs": [],
      "source": [
        "mean_features = list(data.columns[1:11].drop(['area_mean', 'perimeter_mean', 'concave points_mean', 'concavity_mean']))\n",
        "# data.drop(['area_mean', 'perimeter_mean', 'concave points_mean', 'concavity_mean'], axis=1, inplace=True)\n",
        "print(list(data[mean_features].columns))\n",
        "print(list(data.columns))\n",
        "fig = plt.figure(figsize=(10, 8))\n",
        "sns.heatmap(data[mean_features].corr(), annot=True, cmap=\"RdBu\")\n",
        "# plt.show()\n"
      ]
    },
    {
      "cell_type": "code",
      "execution_count": null,
      "id": "3adac903",
      "metadata": {
        "id": "3adac903"
      },
      "outputs": [],
      "source": [
        "# Strand error [se]\n",
        "print('Correlation')\n",
        "print(data[se_features].corr())\n",
        "fig = plt.figure(figsize=(10, 8))\n",
        "sns.heatmap(data[se_features].corr(), annot=True, cmap=\"RdBu\")\n",
        "# plt.show()"
      ]
    },
    {
      "cell_type": "code",
      "execution_count": null,
      "id": "3fdbf621",
      "metadata": {
        "id": "3fdbf621"
      },
      "outputs": [],
      "source": [
        "se_features = list(data.columns[11:20].drop(['area_se', 'perimeter_se', 'concave points_se', 'concavity_se']))\n",
        "print(list(data[se_features].columns))\n",
        "fig = plt.figure(figsize=(10, 8))\n",
        "sns.heatmap(data[se_features].corr(), annot=True, cmap=\"RdBu\")\n",
        "# plt.show()"
      ]
    },
    {
      "cell_type": "code",
      "execution_count": null,
      "id": "82de200f",
      "metadata": {
        "id": "82de200f"
      },
      "outputs": [],
      "source": [
        "# Worst\n",
        "print('Correlation')\n",
        "print(data[worst_features].corr())\n",
        "fig = plt.figure(figsize=(10, 8))\n",
        "sns.heatmap(data[worst_features].corr(), annot=True, cmap=\"RdBu\")\n",
        "# plt.show()"
      ]
    },
    {
      "cell_type": "code",
      "execution_count": null,
      "id": "ed02bd72",
      "metadata": {
        "id": "ed02bd72"
      },
      "outputs": [],
      "source": [
        "worst_features = list(data.columns[21:31].drop(['area_worst', 'perimeter_worst', 'concave points_worst', 'concavity_worst', 'fractal_dimension_worst']))\n",
        "print(list(data[se_features].columns))\n",
        "fig = plt.figure(figsize=(10, 8))\n",
        "sns.heatmap(data[worst_features].corr(), annot=True, cmap=\"RdBu\")"
      ]
    },
    {
      "cell_type": "code",
      "execution_count": null,
      "id": "16c2f872",
      "metadata": {
        "id": "16c2f872"
      },
      "outputs": [],
      "source": [
        "# Features\n",
        "print(list([mean_features, se_features, worst_features]))\n",
        "print(list(data.columns))\n",
        "data = pd.concat([data[mean_features], data[se_features], data[worst_features], data['diagnosis']], axis=1)\n",
        "print(list(data.columns))\n",
        "print('Data shape {}'.format(data.shape))\n",
        "print('-----------------------------------------------------')\n"
      ]
    },
    {
      "cell_type": "code",
      "execution_count": null,
      "id": "a0f46817",
      "metadata": {
        "id": "a0f46817"
      },
      "outputs": [],
      "source": [
        "# X and y\n",
        "x = data.drop('diagnosis', axis=1).values\n",
        "y = data['diagnosis'].values\n",
        "print(x.shape)\n",
        "print(y.shape)\n"
      ]
    },
    {
      "cell_type": "code",
      "execution_count": null,
      "id": "02151e17",
      "metadata": {
        "id": "02151e17"
      },
      "outputs": [],
      "source": [
        "# train_test split\n",
        "x_train, x_test, y_train, y_test = train_test_split(x, y, test_size=0.3, random_state=1)\n",
        "# Standardization\n",
        "sc = StandardScaler()\n",
        "x_train = sc.fit_transform(x_train)\n",
        "x_test = sc.fit_transform(x_test)\n"
      ]
    },
    {
      "cell_type": "code",
      "execution_count": null,
      "id": "4e003eb5",
      "metadata": {
        "id": "4e003eb5"
      },
      "outputs": [],
      "source": [
        "# KNN model\n",
        "# Find the Best value for K\n",
        "error1 = []\n",
        "error2 = []\n",
        "for k in range(1, 15):\n",
        "    knn = KNeighborsClassifier(n_neighbors=k)\n",
        "    knn.fit(x_train, y_train)\n",
        "    y_predicted1 = knn.predict(x_train)\n",
        "    error1.append(np.mean(y_train != y_predicted1))\n",
        "    y_predicted2 = knn.predict(x_test)\n",
        "    error2.append(np.mean(y_test != y_predicted2))\n",
        "\n",
        "plt.figure(figsize=(10, 6))\n",
        "plt.plot(range(1, 15), error1, label=\"train\")\n",
        "plt.plot(range(1, 15), error2, label=\"test\")\n",
        "plt.xlabel('k Value')\n",
        "plt.ylabel('Error')\n",
        "plt.legend()\n",
        "plt.show()\n",
        "# The best key value = 5\n"
      ]
    },
    {
      "cell_type": "code",
      "execution_count": null,
      "id": "15adff64",
      "metadata": {
        "id": "15adff64"
      },
      "outputs": [],
      "source": [
        "knn = KNeighborsClassifier(n_neighbors=5)\n",
        "knn.fit(x_train, y_train)\n",
        "y_predicted = knn.predict(x_test)\n",
        "print(y_test)\n",
        "print(y_predicted)\n",
        "print(metrics.confusion_matrix(y_test, y_predicted))\n",
        "print(metrics.accuracy_score(y_test, y_predicted)*100)\n",
        "print(metrics.classification_report(y_test, y_predicted))\n"
      ]
    },
    {
      "cell_type": "code",
      "execution_count": null,
      "id": "1181e373",
      "metadata": {
        "id": "1181e373"
      },
      "outputs": [],
      "source": [
        "# confusion matrix and f1 score\n",
        "f1_score_knn = metrics.f1_score(y_test, y_predicted, average='micro')\n",
        "cm_knn = metrics.confusion_matrix(y_test, y_predicted)\n",
        "sns.heatmap(cm_knn, annot=True, fmt=\".0f\", linewidths=3, square=True, cmap='Reds', color=\"#cd1076\")\n",
        "plt.ylabel('actual label')\n",
        "plt.xlabel('predicted label')\n",
        "plt.title(f'F1 Score [KNN Algorithm]: {f1_score_knn:.2f}', size=14, color='red')\n",
        "plt.show()\n",
        "print('KNN F1 Score {}'.format(f1_score_knn))\n"
      ]
    },
    {
      "cell_type": "code",
      "execution_count": null,
      "id": "1890166d",
      "metadata": {
        "id": "1890166d"
      },
      "outputs": [],
      "source": [
        "# Naive Bayes Algorithm\n",
        "gnb = GaussianNB()\n",
        "model = gnb.fit(x_train, y_train)\n",
        "y_predicted = gnb.predict(x_test)\n",
        "print(y_test)\n",
        "print(y_predicted)\n",
        "# confusion matrix and f1 score\n",
        "f1_score_NB = metrics.f1_score(y_test, y_predicted, average='micro')\n",
        "cm_mnb = metrics.confusion_matrix(y_test, y_predicted)\n",
        "sns.heatmap(cm_mnb, annot=True, fmt=\".0f\", linewidths=3, square=True, cmap='Reds', color=\"#cd1076\")\n",
        "plt.ylabel('actual label')\n",
        "plt.xlabel('predicted label')\n",
        "plt.title(f'F1 Score [Naive Bayes Algorithm]: {f1_score_NB:.2f}', size=14, color='red')\n",
        "plt.show()\n",
        "print('Naive Bayes F1 Score {}'.format(f1_score_NB))\n",
        "\n"
      ]
    },
    {
      "cell_type": "code",
      "execution_count": null,
      "id": "80a53c81",
      "metadata": {
        "id": "80a53c81"
      },
      "outputs": [],
      "source": [
        "# Logistic Regression\n",
        "log = LogisticRegression()\n",
        "model = log.fit(x_train, y_train)\n",
        "y_predicted = log.predict(x_test)\n",
        "# confusion matrix and f1 score\n",
        "print('Accuracy of Logistic Regression Algorithm: '\n",
        "      , metrics.accuracy_score(y_test, y_predicted)*100)\n",
        "print(metrics.classification_report(y_test, y_predicted))\n",
        "\n",
        "f1_score_log = metrics.f1_score(y_test, y_predicted, average='micro')\n",
        "cm_mnb = metrics.confusion_matrix(y_test, y_predicted)\n",
        "sns.heatmap(cm_mnb, annot=True, fmt=\".0f\", linewidths=3, square=True, cmap='Reds', color=\"#cd1076\")\n",
        "plt.ylabel('actual label')\n",
        "plt.xlabel('predicted label')\n",
        "plt.title(f'F1 Score [Logistic Regression Algorithm]: {f1_score_log:.2f}', size=14, color='red')\n",
        "plt.show()\n",
        "print('Logistic Regression F1 Score {}'.format(f1_score_log))\n"
      ]
    },
    {
      "cell_type": "code",
      "execution_count": null,
      "id": "f8507dc9",
      "metadata": {
        "id": "f8507dc9"
      },
      "outputs": [],
      "source": [
        "# comparison between Algorithms\n",
        "plt.figure(figsize=(12, 6))\n",
        "model_acc = [f1_score_log, f1_score_knn, f1_score_NB]\n",
        "model_name = ['LogisticRegression', 'KNN', 'Naive Bayes']\n",
        "sns.barplot(x=model_acc, y=model_name, palette='magma')\n",
        "plt.show()\n"
      ]
    }
  ],
  "metadata": {
    "kernelspec": {
      "display_name": "Python 3 (ipykernel)",
      "language": "python",
      "name": "python3"
    },
    "language_info": {
      "codemirror_mode": {
        "name": "ipython",
        "version": 3
      },
      "file_extension": ".py",
      "mimetype": "text/x-python",
      "name": "python",
      "nbconvert_exporter": "python",
      "pygments_lexer": "ipython3",
      "version": "3.9.7"
    },
    "colab": {
      "provenance": [],
      "toc_visible": true,
      "include_colab_link": true
    }
  },
  "nbformat": 4,
  "nbformat_minor": 5
}